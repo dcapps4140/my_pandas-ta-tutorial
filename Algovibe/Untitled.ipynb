{
 "cells": [
  {
   "cell_type": "code",
   "execution_count": null,
   "id": "9d43091c",
   "metadata": {},
   "outputs": [],
   "source": [
    "#!/usr/bin/env python\n",
    "# coding: utf-8\n",
    "import json\n",
    "import os\n",
    "import websocket\n",
    "\n",
    "\n",
    "# Get the value of an environment variable\n",
    "API_KEY = os.environ.get('API_KEY')\n",
    "API_KEY_SK = os.environ.get('API_KEY_SK')\n",
    "print(API_KEY, API_KEY_SK)"
   ]
  },
  {
   "cell_type": "code",
   "execution_count": null,
   "id": "83f3e774",
   "metadata": {},
   "outputs": [],
   "source": [
    "END_POINT = 'wss://stream.binance.us:9443/ws'\n",
    "\n",
    "our_msg = json.dumps({'method':'SUBSCRIBE', 'params':['btcusdt@ticker'],'id':1})\n",
    "\n",
    "def on_open(ws):\n",
    "    '''This is the callback function that will be called when the connection is opened'''\n",
    "    ws.send(our_msg)\n",
    "\n",
    "def on_message(ws, message):\n",
    "    '''This is the callback function that will be called when a message is received'''\n",
    "    out = json.loads(message)\n",
    "    print(out)"
   ]
  },
  {
   "cell_type": "code",
   "execution_count": null,
   "id": "e9321a90",
   "metadata": {},
   "outputs": [],
   "source": [
    "ws = websocket.WebSocketApp(END_POINT, on_message=on_message, on_open=on_open)\n",
    "ws.run_forever()"
   ]
  },
  {
   "cell_type": "code",
   "execution_count": null,
   "id": "d5e24b44",
   "metadata": {},
   "outputs": [],
   "source": []
  }
 ],
 "metadata": {
  "kernelspec": {
   "display_name": "Python 3 (ipykernel)",
   "language": "python",
   "name": "python3"
  },
  "language_info": {
   "codemirror_mode": {
    "name": "ipython",
    "version": 3
   },
   "file_extension": ".py",
   "mimetype": "text/x-python",
   "name": "python",
   "nbconvert_exporter": "python",
   "pygments_lexer": "ipython3",
   "version": "3.10.9"
  }
 },
 "nbformat": 4,
 "nbformat_minor": 5
}
