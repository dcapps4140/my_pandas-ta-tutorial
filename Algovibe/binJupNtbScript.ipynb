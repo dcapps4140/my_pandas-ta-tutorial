{
 "cells": [
  {
   "cell_type": "code",
   "execution_count": 5,
   "id": "5a0e9687",
   "metadata": {},
   "outputs": [],
   "source": [
    "#!/usr/bin/env python\n",
    "# coding: utf-8\n",
    "import json\n",
    "import os\n",
    "import websocket\n",
    "import pandas as pd"
   ]
  },
  {
   "cell_type": "code",
   "execution_count": 6,
   "id": "438b9653",
   "metadata": {},
   "outputs": [],
   "source": [
    "END_POINT = 'wss://stream.binance:9443/ws'"
   ]
  },
  {
   "cell_type": "code",
   "execution_count": 7,
   "id": "f74d381e",
   "metadata": {},
   "outputs": [],
   "source": [
    "our_msg = json.dumps({\n",
    "    'method':'SUBSCRIBE',\n",
    "    'params':['btcusdt@ticker'],\n",
    "    'id':1})"
   ]
  },
  {
   "cell_type": "code",
   "execution_count": 8,
   "id": "ab27fe4f",
   "metadata": {},
   "outputs": [
    {
     "data": {
      "text/plain": [
       "True"
      ]
     },
     "execution_count": 8,
     "metadata": {},
     "output_type": "execute_result"
    }
   ],
   "source": [
    "def on_open(ws):\n",
    "    ws.send(our_msg)\n",
    "\n",
    "def on_message(ws, message):\n",
    "    global df\n",
    "    out = json.loads(message)\n",
    "    df = pd.DataFrame(out['c'])\n",
    "    print(df)\n",
    "    \n",
    "ws = websocket.WebSocketApp(END_POINT, on_message=on_message, on_open=on_open)\n",
    "\n",
    "ws.run_forever()"
   ]
  },
  {
   "cell_type": "code",
   "execution_count": null,
   "id": "4369dbc9",
   "metadata": {},
   "outputs": [],
   "source": []
  }
 ],
 "metadata": {
  "kernelspec": {
   "display_name": "Python 3 (ipykernel)",
   "language": "python",
   "name": "python3"
  },
  "language_info": {
   "codemirror_mode": {
    "name": "ipython",
    "version": 3
   },
   "file_extension": ".py",
   "mimetype": "text/x-python",
   "name": "python",
   "nbconvert_exporter": "python",
   "pygments_lexer": "ipython3",
   "version": "3.10.9"
  }
 },
 "nbformat": 4,
 "nbformat_minor": 5
}
